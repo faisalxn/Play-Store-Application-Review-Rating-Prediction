{
 "cells": [
  {
   "cell_type": "code",
   "execution_count": 49,
   "metadata": {},
   "outputs": [
    {
     "ename": "TypeError",
     "evalue": "string indices must be integers",
     "output_type": "error",
     "traceback": [
      "\u001b[1;31m---------------------------------------------------------------------------\u001b[0m",
      "\u001b[1;31mTypeError\u001b[0m                                 Traceback (most recent call last)",
      "\u001b[1;32m<ipython-input-49-4dba289105f0>\u001b[0m in \u001b[0;36m<module>\u001b[1;34m()\u001b[0m\n\u001b[0;32m     16\u001b[0m     \u001b[1;31m#print(s1)\u001b[0m\u001b[1;33m\u001b[0m\u001b[1;33m\u001b[0m\u001b[0m\n\u001b[0;32m     17\u001b[0m \u001b[1;33m\u001b[0m\u001b[0m\n\u001b[1;32m---> 18\u001b[1;33m     \u001b[0mtokens\u001b[0m \u001b[1;33m=\u001b[0m \u001b[0mnltk\u001b[0m\u001b[1;33m.\u001b[0m\u001b[0mword_tokenize\u001b[0m\u001b[1;33m(\u001b[0m\u001b[0md\u001b[0m\u001b[1;33m[\u001b[0m\u001b[1;34m'Review Text'\u001b[0m\u001b[1;33m]\u001b[0m\u001b[1;33m)\u001b[0m\u001b[1;33m\u001b[0m\u001b[0m\n\u001b[0m\u001b[0;32m     19\u001b[0m \u001b[1;33m\u001b[0m\u001b[0m\n\u001b[0;32m     20\u001b[0m     \u001b[1;31m#print(tokens)\u001b[0m\u001b[1;33m\u001b[0m\u001b[1;33m\u001b[0m\u001b[0m\n",
      "\u001b[1;31mTypeError\u001b[0m: string indices must be integers"
     ]
    }
   ],
   "source": [
    "import nltk\n",
    "from nltk import word_tokenize\n",
    "import pandas as pd\n",
    "\n",
    "\n",
    "#s1 = \"Great app. Easy to use. Integrates well with features on my phone like the fingerprint scanner. Gets a bit weird when you have two O2 contracts as you can't monitor multiple phones through the same app. However, this got sorted and I haven't had any issues since.\"\n",
    "#s1 = \"is\"\n",
    "\n",
    "ds = pd.read_csv('MyO2_reviews_list.csv')\n",
    "X = ds['Review Text']\n",
    "Y = ds['Rating']\n",
    "\n",
    "reviews_df = []\n",
    "\n",
    "for d in ds:\n",
    "    #print(s1)\n",
    "    \n",
    "    tokens = nltk.word_tokenize(d['Review Text'])\n",
    "\n",
    "    #print(tokens)\n",
    "\n",
    "    tagged = nltk.pos_tag(tokens)\n",
    "\n",
    "    #print(tagged)\n",
    "\n",
    "    lst = []\n",
    "\n",
    "    for a,b in tagged:\n",
    "        #print(a,\" \",b)\n",
    "        s = a+\" \"+b\n",
    "        if(b!=\"IN\" and b!=\"DT\" and b!=\"PRP\" and b!=\"MD\" and b!=\".\" and b!=\",\" and b!=\"PRP$\"):\n",
    "            lst.append(a)\n",
    "            #print(a, \" \" , b)\n",
    "\n",
    "    fd1 = nltk.FreqDist(lst)\n",
    "\n",
    "\n",
    "\n",
    "    \n",
    "\n",
    "\n",
    "\n",
    "    for i in fd1:\n",
    "        #print(i,\" \",fd1[i])\n",
    "        temp = pd.DataFrame({'Word':i,'Frequency':fd1[i],'Rating':d['Rating']},index=[0])\n",
    "        reviews_df.append(temp)\n",
    "\n",
    "reviews_df = pd.concat(reviews_df,ignore_index=True)\n",
    "\n",
    "reviews_df.to_csv('Word_distribution.csv', encoding='utf-8')"
   ]
  },
  {
   "cell_type": "code",
   "execution_count": 26,
   "metadata": {},
   "outputs": [
    {
     "name": "stdout",
     "output_type": "stream",
     "text": [
      "b   2\n",
      "a   4\n",
      "c   1\n",
      "d   2\n"
     ]
    }
   ],
   "source": [
    "import nltk\n",
    "\n",
    "\n",
    "text1 = [  'b' , 'a' , 'b' , 'c' , 'd' , 'a' , 'd' , 'a' , 'a' ]\n",
    "fd1 = nltk.FreqDist(text1)\n",
    "\n",
    "\n",
    "for i in fd1:\n",
    "    print(i,\" \",fd1[i])\n"
   ]
  },
  {
   "cell_type": "code",
   "execution_count": null,
   "metadata": {
    "collapsed": true
   },
   "outputs": [],
   "source": []
  }
 ],
 "metadata": {
  "kernelspec": {
   "display_name": "Python 3",
   "language": "python",
   "name": "python3"
  },
  "language_info": {
   "codemirror_mode": {
    "name": "ipython",
    "version": 3
   },
   "file_extension": ".py",
   "mimetype": "text/x-python",
   "name": "python",
   "nbconvert_exporter": "python",
   "pygments_lexer": "ipython3",
   "version": "3.6.3"
  }
 },
 "nbformat": 4,
 "nbformat_minor": 2
}
