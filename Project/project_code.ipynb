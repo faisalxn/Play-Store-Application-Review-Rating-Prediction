{
 "cells": [
  {
   "cell_type": "code",
   "execution_count": 32,
   "metadata": {},
   "outputs": [
    {
     "data": {
      "text/html": [
       "<div>\n",
       "<style>\n",
       "    .dataframe thead tr:only-child th {\n",
       "        text-align: right;\n",
       "    }\n",
       "\n",
       "    .dataframe thead th {\n",
       "        text-align: left;\n",
       "    }\n",
       "\n",
       "    .dataframe tbody tr th {\n",
       "        vertical-align: top;\n",
       "    }\n",
       "</style>\n",
       "<table border=\"1\" class=\"dataframe\">\n",
       "  <thead>\n",
       "    <tr style=\"text-align: right;\">\n",
       "      <th></th>\n",
       "      <th>Rating</th>\n",
       "      <th>Review Text</th>\n",
       "    </tr>\n",
       "  </thead>\n",
       "  <tbody>\n",
       "    <tr>\n",
       "      <th>0</th>\n",
       "      <td>3</td>\n",
       "      <td>Not the greatest app especially not ezactly p...</td>\n",
       "    </tr>\n",
       "    <tr>\n",
       "      <th>1</th>\n",
       "      <td>5</td>\n",
       "      <td>Really useful to keep up-to-date with my data...</td>\n",
       "    </tr>\n",
       "    <tr>\n",
       "      <th>2</th>\n",
       "      <td>5</td>\n",
       "      <td>Great app. Easy to use. Integrates well with ...</td>\n",
       "    </tr>\n",
       "    <tr>\n",
       "      <th>3</th>\n",
       "      <td>1</td>\n",
       "      <td>Tried using it today (4/01/18) and it keeps c...</td>\n",
       "    </tr>\n",
       "    <tr>\n",
       "      <th>4</th>\n",
       "      <td>5</td>\n",
       "      <td>Love it. Quite simply, it does what it's supp...</td>\n",
       "    </tr>\n",
       "  </tbody>\n",
       "</table>\n",
       "</div>"
      ],
      "text/plain": [
       "   Rating                                        Review Text\n",
       "0       3   Not the greatest app especially not ezactly p...\n",
       "1       5   Really useful to keep up-to-date with my data...\n",
       "2       5   Great app. Easy to use. Integrates well with ...\n",
       "3       1   Tried using it today (4/01/18) and it keeps c...\n",
       "4       5   Love it. Quite simply, it does what it's supp..."
      ]
     },
     "execution_count": 32,
     "metadata": {},
     "output_type": "execute_result"
    }
   ],
   "source": [
    "import numpy as np\n",
    "import pandas as pd\n",
    "\n",
    "from sklearn.feature_extraction.text import CountVectorizer, TfidfVectorizer\n",
    "from sklearn.metrics import classification_report\n",
    "from sklearn.cross_validation import train_test_split\n",
    "from sklearn.cross_validation import cross_val_score, KFold\n",
    "\n",
    "from sklearn.naive_bayes import MultinomialNB\n",
    "from sklearn.neighbors import KNeighborsClassifier\n",
    "from sklearn.tree import DecisionTreeClassifier\n",
    "from sklearn.ensemble import RandomForestClassifier, AdaBoostClassifier\n",
    "from sklearn.linear_model import LogisticRegression\n",
    "\n",
    "\n",
    "import matplotlib.pyplot as plt; \n",
    "\n",
    "\n",
    "\n",
    "df = pd.read_csv(\"MyO2_reviews_list.csv\", encoding=\"ISO-8859-1\")\n",
    "\n",
    "df = df.drop('Date', axis = 1)\n",
    "df = df.drop('Review Title', axis = 1)\n",
    "df = df.drop('Unnamed: 0',axis = 1)\n",
    "\n",
    "data = df.as_matrix() \n",
    "df.head()"
   ]
  },
  {
   "cell_type": "code",
   "execution_count": 33,
   "metadata": {},
   "outputs": [
    {
     "name": "stdout",
     "output_type": "stream",
     "text": [
      "(160, 2)\n",
      "(160,) (160,)\n"
     ]
    }
   ],
   "source": [
    "print(data.shape)\n",
    "X = df['Review Text']\n",
    "Y = df['Rating']\n",
    "print(X.shape, Y.shape)\n",
    "CV = CountVectorizer().fit_transform(X)\n",
    "X_train, X_test, y_train, y_test = train_test_split(CV, Y, test_size=0.33, random_state=42)"
   ]
  },
  {
   "cell_type": "code",
   "execution_count": 34,
   "metadata": {},
   "outputs": [
    {
     "name": "stdout",
     "output_type": "stream",
     "text": [
      "Classificiation rate for NB: 1.0\n",
      "             precision    recall  f1-score   support\n",
      "\n",
      "          1       1.00      1.00      1.00         1\n",
      "          2       1.00      1.00      1.00         1\n",
      "          3       1.00      1.00      1.00         8\n",
      "          4       1.00      1.00      1.00        17\n",
      "          5       1.00      1.00      1.00        26\n",
      "\n",
      "avg / total       1.00      1.00      1.00        53\n",
      "\n"
     ]
    }
   ],
   "source": [
    "model = MultinomialNB()\n",
    "model.fit(X_train, y_train)\n",
    "print( \"Classificiation rate for NB:\", model.score(X_test, y_test))\n",
    "preds = model.predict(X_test)\n",
    "print(classification_report(y_test, preds))"
   ]
  },
  {
   "cell_type": "code",
   "execution_count": 35,
   "metadata": {},
   "outputs": [
    {
     "name": "stdout",
     "output_type": "stream",
     "text": [
      "Classificiation rate for RandomForest: 0.924528301887\n",
      "             precision    recall  f1-score   support\n",
      "\n",
      "          1       1.00      1.00      1.00         1\n",
      "          2       1.00      1.00      1.00         1\n",
      "          3       1.00      0.50      0.67         8\n",
      "          4       1.00      1.00      1.00        17\n",
      "          5       0.87      1.00      0.93        26\n",
      "\n",
      "avg / total       0.93      0.92      0.91        53\n",
      "\n"
     ]
    }
   ],
   "source": [
    "model = RandomForestClassifier()\n",
    "model.fit(X_train, y_train)\n",
    "print( \"Classificiation rate for RandomForest:\", model.score(X_test, y_test))\n",
    "preds = model.predict(X_test)\n",
    "print(classification_report(y_test, preds))"
   ]
  },
  {
   "cell_type": "code",
   "execution_count": 36,
   "metadata": {},
   "outputs": [
    {
     "name": "stdout",
     "output_type": "stream",
     "text": [
      "Classificiation rate for DecisionTreeClassifier: 0.924528301887\n",
      "             precision    recall  f1-score   support\n",
      "\n",
      "          1       1.00      1.00      1.00         1\n",
      "          2       1.00      1.00      1.00         1\n",
      "          3       1.00      0.50      0.67         8\n",
      "          4       1.00      1.00      1.00        17\n",
      "          5       0.87      1.00      0.93        26\n",
      "\n",
      "avg / total       0.93      0.92      0.91        53\n",
      "\n"
     ]
    }
   ],
   "source": [
    "model = DecisionTreeClassifier()\n",
    "model.fit(X_train, y_train)\n",
    "print( \"Classificiation rate for DecisionTreeClassifier:\", model.score(X_test, y_test))\n",
    "preds = model.predict(X_test)\n",
    "print(classification_report(y_test, preds))"
   ]
  },
  {
   "cell_type": "code",
   "execution_count": 37,
   "metadata": {},
   "outputs": [
    {
     "name": "stdout",
     "output_type": "stream",
     "text": [
      "Classificiation rate for KNeighborsClassifier: 0.830188679245\n",
      "             precision    recall  f1-score   support\n",
      "\n",
      "          1       1.00      1.00      1.00         1\n",
      "          2       1.00      1.00      1.00         1\n",
      "          3       0.75      0.75      0.75         8\n",
      "          4       1.00      0.59      0.74        17\n",
      "          5       0.79      1.00      0.88        26\n",
      "\n",
      "avg / total       0.86      0.83      0.82        53\n",
      "\n"
     ]
    }
   ],
   "source": [
    "model = KNeighborsClassifier(5)\n",
    "model.fit(X_train, y_train)\n",
    "print( \"Classificiation rate for KNeighborsClassifier:\", model.score(X_test, y_test))\n",
    "preds = model.predict(X_test)\n",
    "print(classification_report(y_test, preds))"
   ]
  },
  {
   "cell_type": "code",
   "execution_count": 38,
   "metadata": {},
   "outputs": [
    {
     "name": "stdout",
     "output_type": "stream",
     "text": [
      "Classificiation rate for LogisticRegression: 0.622641509434\n",
      "             precision    recall  f1-score   support\n",
      "\n",
      "          1       1.00      1.00      1.00         1\n",
      "          2       1.00      1.00      1.00         1\n",
      "          3       0.00      0.00      0.00         8\n",
      "          4       1.00      0.29      0.45        17\n",
      "          5       0.57      1.00      0.72        26\n",
      "\n",
      "avg / total       0.64      0.62      0.54        53\n",
      "\n"
     ]
    },
    {
     "name": "stderr",
     "output_type": "stream",
     "text": [
      "D:\\Anaconda\\lib\\site-packages\\sklearn\\metrics\\classification.py:1135: UndefinedMetricWarning: Precision and F-score are ill-defined and being set to 0.0 in labels with no predicted samples.\n",
      "  'precision', 'predicted', average, warn_for)\n"
     ]
    }
   ],
   "source": [
    "model = AdaBoostClassifier()\n",
    "model.fit(X_train, y_train)\n",
    "print( \"Classificiation rate for LogisticRegression:\", model.score(X_test, y_test))\n",
    "preds = model.predict(X_test)\n",
    "print(classification_report(y_test, preds))"
   ]
  },
  {
   "cell_type": "code",
   "execution_count": 39,
   "metadata": {},
   "outputs": [
    {
     "name": "stdout",
     "output_type": "stream",
     "text": [
      "Classificiation rate for LogisticRegression: 0.924528301887\n",
      "             precision    recall  f1-score   support\n",
      "\n",
      "          1       1.00      1.00      1.00         1\n",
      "          2       1.00      1.00      1.00         1\n",
      "          3       1.00      0.50      0.67         8\n",
      "          4       1.00      1.00      1.00        17\n",
      "          5       0.87      1.00      0.93        26\n",
      "\n",
      "avg / total       0.93      0.92      0.91        53\n",
      "\n"
     ]
    }
   ],
   "source": [
    "model = LogisticRegression(random_state=1)\n",
    "model.fit(X_train, y_train)\n",
    "print( \"Classificiation rate for LogisticRegression:\", model.score(X_test, y_test))\n",
    "preds = model.predict(X_test)\n",
    "print(classification_report(y_test, preds))"
   ]
  },
  {
   "cell_type": "code",
   "execution_count": 40,
   "metadata": {},
   "outputs": [
    {
     "name": "stdout",
     "output_type": "stream",
     "text": [
      "MultinomialNB accuracy 0.98125\n",
      "KNeighborsClassifier accuracy 0.69375\n",
      "DecisionTreeClassifier accuracy 0.98\n",
      "RandomForestClassifier accuracy 0.98125\n",
      "LogisticRegression accuracy 1.0\n",
      "AdaBoostClassifier accuracy 0.695\n"
     ]
    },
    {
     "data": {
      "image/png": "[encoded data removed]",
      "text/plain": [
       "<matplotlib.figure.Figure at 0x814c320>"
      ]
     },
     "metadata": {},
     "output_type": "display_data"
    }
   ],
   "source": [
    "kf = KFold(CV.shape[0], 5, shuffle=True, random_state=33)\n",
    "\n",
    "classifiers = [\n",
    "    MultinomialNB(),\n",
    "    KNeighborsClassifier(5),\n",
    "    DecisionTreeClassifier(),\n",
    "    RandomForestClassifier(),\n",
    "    LogisticRegression(random_state=1),\n",
    "    AdaBoostClassifier()\n",
    "]\n",
    "\n",
    "XL = []\n",
    "YL = []\n",
    "\n",
    "for model in classifiers:\n",
    "    name = model.__class__.__name__\n",
    "    avg_scores = 0\n",
    "    for train , test in kf :\n",
    "        x_train , x_test = CV[train] , CV[test]\n",
    "        y_train , y_test = Y[train] , Y[test]\n",
    "\n",
    "        model.fit(x_train,y_train)\n",
    "        y_pred = model.predict(x_test)\n",
    "        \n",
    "        scores = cross_val_score(model,CV,Y,cv=kf)\n",
    "        scores = np.mean(scores)\n",
    "        avg_scores += scores\n",
    "        \n",
    "    avg_scores /= 5 \n",
    "    print(name,\"accuracy\",avg_scores)\n",
    "    XL.append(avg_scores)\n",
    "    YL.append(name)\n",
    "\n",
    "    \n",
    "\n",
    "y_pos = np.arange(len(YL))\n",
    " \n",
    "plt.barh(y_pos, XL, align='center', alpha=0.5)\n",
    "plt.yticks(y_pos, YL)\n",
    "plt.xlabel('Accuracy')\n",
    "plt.title('Accuracy of different models using count vectorizer')\n",
    " \n",
    "plt.show()"
   ]
  },
  {
   "cell_type": "code",
   "execution_count": 41,
   "metadata": {},
   "outputs": [
    {
     "name": "stdout",
     "output_type": "stream",
     "text": [
      "MultinomialNB accuracy 0.91875\n",
      "KNeighborsClassifier accuracy 0.7375\n",
      "DecisionTreeClassifier accuracy 0.98\n",
      "RandomForestClassifier accuracy 0.97875\n",
      "LogisticRegression accuracy 0.78125\n",
      "AdaBoostClassifier accuracy 0.63125\n"
     ]
    },
    {
     "data": {
      "image/png": "[encoded data removed]",
      "text/plain": [
       "<matplotlib.figure.Figure at 0x80f9e10>"
      ]
     },
     "metadata": {},
     "output_type": "display_data"
    }
   ],
   "source": [
    "X = df['Review Text']\n",
    "Y = df['Rating']\n",
    "TV = TfidfVectorizer(min_df=1,stop_words='english').fit_transform(X)\n",
    "\n",
    "kf = KFold(TV.shape[0], 5, shuffle=True, random_state=33)\n",
    "\n",
    "classifiers = [\n",
    "    MultinomialNB(),\n",
    "    KNeighborsClassifier(5),\n",
    "    DecisionTreeClassifier(),\n",
    "    RandomForestClassifier(),\n",
    "    LogisticRegression(random_state=1),\n",
    "    AdaBoostClassifier()\n",
    "]\n",
    "\n",
    "XL = []\n",
    "YL = []\n",
    "\n",
    "for model in classifiers:\n",
    "    name = model.__class__.__name__\n",
    "    avg_scores = 0\n",
    "    for train , test in kf :\n",
    "        x_train , x_test = TV[train] , TV[test]\n",
    "        y_train , y_test = Y[train] , Y[test]\n",
    "\n",
    "        model.fit(x_train,y_train)\n",
    "        y_pred = model.predict(x_test)\n",
    "        \n",
    "        scores = cross_val_score(model,TV,Y,cv=kf)\n",
    "        scores = np.mean(scores)\n",
    "        avg_scores += scores\n",
    "        \n",
    "    avg_scores /= 5 \n",
    "    print(name,\"accuracy\",avg_scores)\n",
    "    XL.append(avg_scores)\n",
    "    YL.append(name)\n",
    "    \n",
    "\n",
    "\n",
    "y_pos = np.arange(len(YL))\n",
    " \n",
    "plt.barh(y_pos, XL, align='center', alpha=0.5)\n",
    "plt.yticks(y_pos, YL)\n",
    "plt.xlabel('Accuracy')\n",
    "plt.title('Accuracy of different models using tf-idf vectorizer')\n",
    " \n",
    "plt.show()"
   ]
  },
  {
   "cell_type": "code",
   "execution_count": null,
   "metadata": {
    "collapsed": true
   },
   "outputs": [],
   "source": []
  }
 ],
 "metadata": {
  "kernelspec": {
   "display_name": "Python 3",
   "language": "python",
   "name": "python3"
  },
  "language_info": {
   "codemirror_mode": {
    "name": "ipython",
    "version": 3
   },
   "file_extension": ".py",
   "mimetype": "text/x-python",
   "name": "python",
   "nbconvert_exporter": "python",
   "pygments_lexer": "ipython3",
   "version": "3.6.3"
  }
 },
 "nbformat": 4,
 "nbformat_minor": 2
}
